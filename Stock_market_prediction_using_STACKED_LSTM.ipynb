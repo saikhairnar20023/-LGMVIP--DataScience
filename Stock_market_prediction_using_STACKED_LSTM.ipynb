{
  "nbformat": 4,
  "nbformat_minor": 0,
  "metadata": {
    "colab": {
      "provenance": [],
      "authorship_tag": "ABX9TyNLad3rv9CQd17ovLtl9nzX",
      "include_colab_link": true
    },
    "kernelspec": {
      "name": "python3",
      "display_name": "Python 3"
    },
    "language_info": {
      "name": "python"
    }
  },
  "cells": [
    {
      "cell_type": "markdown",
      "metadata": {
        "id": "view-in-github",
        "colab_type": "text"
      },
      "source": [
        "<a href=\"https://colab.research.google.com/github/saikhairnar20023/-LGMVIP--DataScience/blob/main/Stock_market_prediction_using_STACKED_LSTM.ipynb\" target=\"_parent\"><img src=\"https://colab.research.google.com/assets/colab-badge.svg\" alt=\"Open In Colab\"/></a>"
      ]
    },
    {
      "cell_type": "markdown",
      "source": [
        "LetsGrowMore Virtual Internship Program (January-2023)\n",
        "Beginner Level Task 1\n",
        "\n",
        "Name :- Sai shashank khairnar\n",
        "\n",
        "Task 2 :- Stock Market Prediction and Forecasting using Stacked LSTM"
      ],
      "metadata": {
        "id": "RwCyacCfg9iw"
      }
    },
    {
      "cell_type": "code",
      "execution_count": 1,
      "metadata": {
        "id": "rcGjmhVmgj0m"
      },
      "outputs": [],
      "source": [
        "import numpy as np\n",
        "import pandas as pd\n",
        "import matplotlib.pyplot as plt\n",
        "%matplotlib inline"
      ]
    },
    {
      "cell_type": "code",
      "source": [
        "data=pd.read_csv(\"https://raw.githubusercontent.com/mwitiderrick/stockprice/master/NSE-TATAGLOBAL.csv\")\n",
        "data.head()"
      ],
      "metadata": {
        "colab": {
          "base_uri": "https://localhost:8080/",
          "height": 206
        },
        "id": "vSb4k7KUhISk",
        "outputId": "b7ca4d10-df06-4ac3-aa95-84146a6f4106"
      },
      "execution_count": 3,
      "outputs": [
        {
          "output_type": "execute_result",
          "data": {
            "text/plain": [
              "         Date    Open    High     Low    Last   Close  Total Trade Quantity  \\\n",
              "0  2018-09-28  234.05  235.95  230.20  233.50  233.75               3069914   \n",
              "1  2018-09-27  234.55  236.80  231.10  233.80  233.25               5082859   \n",
              "2  2018-09-26  240.00  240.00  232.50  235.00  234.25               2240909   \n",
              "3  2018-09-25  233.30  236.75  232.00  236.25  236.10               2349368   \n",
              "4  2018-09-24  233.55  239.20  230.75  234.00  233.30               3423509   \n",
              "\n",
              "   Turnover (Lacs)  \n",
              "0          7162.35  \n",
              "1         11859.95  \n",
              "2          5248.60  \n",
              "3          5503.90  \n",
              "4          7999.55  "
            ],
            "text/html": [
              "\n",
              "  <div id=\"df-07f43c70-043d-476a-accd-8beaf63c341d\">\n",
              "    <div class=\"colab-df-container\">\n",
              "      <div>\n",
              "<style scoped>\n",
              "    .dataframe tbody tr th:only-of-type {\n",
              "        vertical-align: middle;\n",
              "    }\n",
              "\n",
              "    .dataframe tbody tr th {\n",
              "        vertical-align: top;\n",
              "    }\n",
              "\n",
              "    .dataframe thead th {\n",
              "        text-align: right;\n",
              "    }\n",
              "</style>\n",
              "<table border=\"1\" class=\"dataframe\">\n",
              "  <thead>\n",
              "    <tr style=\"text-align: right;\">\n",
              "      <th></th>\n",
              "      <th>Date</th>\n",
              "      <th>Open</th>\n",
              "      <th>High</th>\n",
              "      <th>Low</th>\n",
              "      <th>Last</th>\n",
              "      <th>Close</th>\n",
              "      <th>Total Trade Quantity</th>\n",
              "      <th>Turnover (Lacs)</th>\n",
              "    </tr>\n",
              "  </thead>\n",
              "  <tbody>\n",
              "    <tr>\n",
              "      <th>0</th>\n",
              "      <td>2018-09-28</td>\n",
              "      <td>234.05</td>\n",
              "      <td>235.95</td>\n",
              "      <td>230.20</td>\n",
              "      <td>233.50</td>\n",
              "      <td>233.75</td>\n",
              "      <td>3069914</td>\n",
              "      <td>7162.35</td>\n",
              "    </tr>\n",
              "    <tr>\n",
              "      <th>1</th>\n",
              "      <td>2018-09-27</td>\n",
              "      <td>234.55</td>\n",
              "      <td>236.80</td>\n",
              "      <td>231.10</td>\n",
              "      <td>233.80</td>\n",
              "      <td>233.25</td>\n",
              "      <td>5082859</td>\n",
              "      <td>11859.95</td>\n",
              "    </tr>\n",
              "    <tr>\n",
              "      <th>2</th>\n",
              "      <td>2018-09-26</td>\n",
              "      <td>240.00</td>\n",
              "      <td>240.00</td>\n",
              "      <td>232.50</td>\n",
              "      <td>235.00</td>\n",
              "      <td>234.25</td>\n",
              "      <td>2240909</td>\n",
              "      <td>5248.60</td>\n",
              "    </tr>\n",
              "    <tr>\n",
              "      <th>3</th>\n",
              "      <td>2018-09-25</td>\n",
              "      <td>233.30</td>\n",
              "      <td>236.75</td>\n",
              "      <td>232.00</td>\n",
              "      <td>236.25</td>\n",
              "      <td>236.10</td>\n",
              "      <td>2349368</td>\n",
              "      <td>5503.90</td>\n",
              "    </tr>\n",
              "    <tr>\n",
              "      <th>4</th>\n",
              "      <td>2018-09-24</td>\n",
              "      <td>233.55</td>\n",
              "      <td>239.20</td>\n",
              "      <td>230.75</td>\n",
              "      <td>234.00</td>\n",
              "      <td>233.30</td>\n",
              "      <td>3423509</td>\n",
              "      <td>7999.55</td>\n",
              "    </tr>\n",
              "  </tbody>\n",
              "</table>\n",
              "</div>\n",
              "      <button class=\"colab-df-convert\" onclick=\"convertToInteractive('df-07f43c70-043d-476a-accd-8beaf63c341d')\"\n",
              "              title=\"Convert this dataframe to an interactive table.\"\n",
              "              style=\"display:none;\">\n",
              "        \n",
              "  <svg xmlns=\"http://www.w3.org/2000/svg\" height=\"24px\"viewBox=\"0 0 24 24\"\n",
              "       width=\"24px\">\n",
              "    <path d=\"M0 0h24v24H0V0z\" fill=\"none\"/>\n",
              "    <path d=\"M18.56 5.44l.94 2.06.94-2.06 2.06-.94-2.06-.94-.94-2.06-.94 2.06-2.06.94zm-11 1L8.5 8.5l.94-2.06 2.06-.94-2.06-.94L8.5 2.5l-.94 2.06-2.06.94zm10 10l.94 2.06.94-2.06 2.06-.94-2.06-.94-.94-2.06-.94 2.06-2.06.94z\"/><path d=\"M17.41 7.96l-1.37-1.37c-.4-.4-.92-.59-1.43-.59-.52 0-1.04.2-1.43.59L10.3 9.45l-7.72 7.72c-.78.78-.78 2.05 0 2.83L4 21.41c.39.39.9.59 1.41.59.51 0 1.02-.2 1.41-.59l7.78-7.78 2.81-2.81c.8-.78.8-2.07 0-2.86zM5.41 20L4 18.59l7.72-7.72 1.47 1.35L5.41 20z\"/>\n",
              "  </svg>\n",
              "      </button>\n",
              "      \n",
              "  <style>\n",
              "    .colab-df-container {\n",
              "      display:flex;\n",
              "      flex-wrap:wrap;\n",
              "      gap: 12px;\n",
              "    }\n",
              "\n",
              "    .colab-df-convert {\n",
              "      background-color: #E8F0FE;\n",
              "      border: none;\n",
              "      border-radius: 50%;\n",
              "      cursor: pointer;\n",
              "      display: none;\n",
              "      fill: #1967D2;\n",
              "      height: 32px;\n",
              "      padding: 0 0 0 0;\n",
              "      width: 32px;\n",
              "    }\n",
              "\n",
              "    .colab-df-convert:hover {\n",
              "      background-color: #E2EBFA;\n",
              "      box-shadow: 0px 1px 2px rgba(60, 64, 67, 0.3), 0px 1px 3px 1px rgba(60, 64, 67, 0.15);\n",
              "      fill: #174EA6;\n",
              "    }\n",
              "\n",
              "    [theme=dark] .colab-df-convert {\n",
              "      background-color: #3B4455;\n",
              "      fill: #D2E3FC;\n",
              "    }\n",
              "\n",
              "    [theme=dark] .colab-df-convert:hover {\n",
              "      background-color: #434B5C;\n",
              "      box-shadow: 0px 1px 3px 1px rgba(0, 0, 0, 0.15);\n",
              "      filter: drop-shadow(0px 1px 2px rgba(0, 0, 0, 0.3));\n",
              "      fill: #FFFFFF;\n",
              "    }\n",
              "  </style>\n",
              "\n",
              "      <script>\n",
              "        const buttonEl =\n",
              "          document.querySelector('#df-07f43c70-043d-476a-accd-8beaf63c341d button.colab-df-convert');\n",
              "        buttonEl.style.display =\n",
              "          google.colab.kernel.accessAllowed ? 'block' : 'none';\n",
              "\n",
              "        async function convertToInteractive(key) {\n",
              "          const element = document.querySelector('#df-07f43c70-043d-476a-accd-8beaf63c341d');\n",
              "          const dataTable =\n",
              "            await google.colab.kernel.invokeFunction('convertToInteractive',\n",
              "                                                     [key], {});\n",
              "          if (!dataTable) return;\n",
              "\n",
              "          const docLinkHtml = 'Like what you see? Visit the ' +\n",
              "            '<a target=\"_blank\" href=https://colab.research.google.com/notebooks/data_table.ipynb>data table notebook</a>'\n",
              "            + ' to learn more about interactive tables.';\n",
              "          element.innerHTML = '';\n",
              "          dataTable['output_type'] = 'display_data';\n",
              "          await google.colab.output.renderOutput(dataTable, element);\n",
              "          const docLink = document.createElement('div');\n",
              "          docLink.innerHTML = docLinkHtml;\n",
              "          element.appendChild(docLink);\n",
              "        }\n",
              "      </script>\n",
              "    </div>\n",
              "  </div>\n",
              "  "
            ]
          },
          "metadata": {},
          "execution_count": 3
        }
      ]
    },
    {
      "cell_type": "code",
      "source": [
        "\n",
        "data.tail()"
      ],
      "metadata": {
        "colab": {
          "base_uri": "https://localhost:8080/",
          "height": 206
        },
        "id": "yZR2R7n1hZKb",
        "outputId": "3bcfd106-ba55-4f93-d148-1b47c90343dc"
      },
      "execution_count": 4,
      "outputs": [
        {
          "output_type": "execute_result",
          "data": {
            "text/plain": [
              "            Date   Open    High     Low    Last   Close  Total Trade Quantity  \\\n",
              "2030  2010-07-27  117.6  119.50  112.00  118.80  118.65                586100   \n",
              "2031  2010-07-26  120.1  121.00  117.10  117.10  117.60                658440   \n",
              "2032  2010-07-23  121.8  121.95  120.25  120.35  120.65                281312   \n",
              "2033  2010-07-22  120.3  122.00  120.25  120.75  120.90                293312   \n",
              "2034  2010-07-21  122.1  123.00  121.05  121.10  121.55                658666   \n",
              "\n",
              "      Turnover (Lacs)  \n",
              "2030           694.98  \n",
              "2031           780.01  \n",
              "2032           340.31  \n",
              "2033           355.17  \n",
              "2034           803.56  "
            ],
            "text/html": [
              "\n",
              "  <div id=\"df-c4591a3e-1fb5-4944-84cb-7ad411ad784b\">\n",
              "    <div class=\"colab-df-container\">\n",
              "      <div>\n",
              "<style scoped>\n",
              "    .dataframe tbody tr th:only-of-type {\n",
              "        vertical-align: middle;\n",
              "    }\n",
              "\n",
              "    .dataframe tbody tr th {\n",
              "        vertical-align: top;\n",
              "    }\n",
              "\n",
              "    .dataframe thead th {\n",
              "        text-align: right;\n",
              "    }\n",
              "</style>\n",
              "<table border=\"1\" class=\"dataframe\">\n",
              "  <thead>\n",
              "    <tr style=\"text-align: right;\">\n",
              "      <th></th>\n",
              "      <th>Date</th>\n",
              "      <th>Open</th>\n",
              "      <th>High</th>\n",
              "      <th>Low</th>\n",
              "      <th>Last</th>\n",
              "      <th>Close</th>\n",
              "      <th>Total Trade Quantity</th>\n",
              "      <th>Turnover (Lacs)</th>\n",
              "    </tr>\n",
              "  </thead>\n",
              "  <tbody>\n",
              "    <tr>\n",
              "      <th>2030</th>\n",
              "      <td>2010-07-27</td>\n",
              "      <td>117.6</td>\n",
              "      <td>119.50</td>\n",
              "      <td>112.00</td>\n",
              "      <td>118.80</td>\n",
              "      <td>118.65</td>\n",
              "      <td>586100</td>\n",
              "      <td>694.98</td>\n",
              "    </tr>\n",
              "    <tr>\n",
              "      <th>2031</th>\n",
              "      <td>2010-07-26</td>\n",
              "      <td>120.1</td>\n",
              "      <td>121.00</td>\n",
              "      <td>117.10</td>\n",
              "      <td>117.10</td>\n",
              "      <td>117.60</td>\n",
              "      <td>658440</td>\n",
              "      <td>780.01</td>\n",
              "    </tr>\n",
              "    <tr>\n",
              "      <th>2032</th>\n",
              "      <td>2010-07-23</td>\n",
              "      <td>121.8</td>\n",
              "      <td>121.95</td>\n",
              "      <td>120.25</td>\n",
              "      <td>120.35</td>\n",
              "      <td>120.65</td>\n",
              "      <td>281312</td>\n",
              "      <td>340.31</td>\n",
              "    </tr>\n",
              "    <tr>\n",
              "      <th>2033</th>\n",
              "      <td>2010-07-22</td>\n",
              "      <td>120.3</td>\n",
              "      <td>122.00</td>\n",
              "      <td>120.25</td>\n",
              "      <td>120.75</td>\n",
              "      <td>120.90</td>\n",
              "      <td>293312</td>\n",
              "      <td>355.17</td>\n",
              "    </tr>\n",
              "    <tr>\n",
              "      <th>2034</th>\n",
              "      <td>2010-07-21</td>\n",
              "      <td>122.1</td>\n",
              "      <td>123.00</td>\n",
              "      <td>121.05</td>\n",
              "      <td>121.10</td>\n",
              "      <td>121.55</td>\n",
              "      <td>658666</td>\n",
              "      <td>803.56</td>\n",
              "    </tr>\n",
              "  </tbody>\n",
              "</table>\n",
              "</div>\n",
              "      <button class=\"colab-df-convert\" onclick=\"convertToInteractive('df-c4591a3e-1fb5-4944-84cb-7ad411ad784b')\"\n",
              "              title=\"Convert this dataframe to an interactive table.\"\n",
              "              style=\"display:none;\">\n",
              "        \n",
              "  <svg xmlns=\"http://www.w3.org/2000/svg\" height=\"24px\"viewBox=\"0 0 24 24\"\n",
              "       width=\"24px\">\n",
              "    <path d=\"M0 0h24v24H0V0z\" fill=\"none\"/>\n",
              "    <path d=\"M18.56 5.44l.94 2.06.94-2.06 2.06-.94-2.06-.94-.94-2.06-.94 2.06-2.06.94zm-11 1L8.5 8.5l.94-2.06 2.06-.94-2.06-.94L8.5 2.5l-.94 2.06-2.06.94zm10 10l.94 2.06.94-2.06 2.06-.94-2.06-.94-.94-2.06-.94 2.06-2.06.94z\"/><path d=\"M17.41 7.96l-1.37-1.37c-.4-.4-.92-.59-1.43-.59-.52 0-1.04.2-1.43.59L10.3 9.45l-7.72 7.72c-.78.78-.78 2.05 0 2.83L4 21.41c.39.39.9.59 1.41.59.51 0 1.02-.2 1.41-.59l7.78-7.78 2.81-2.81c.8-.78.8-2.07 0-2.86zM5.41 20L4 18.59l7.72-7.72 1.47 1.35L5.41 20z\"/>\n",
              "  </svg>\n",
              "      </button>\n",
              "      \n",
              "  <style>\n",
              "    .colab-df-container {\n",
              "      display:flex;\n",
              "      flex-wrap:wrap;\n",
              "      gap: 12px;\n",
              "    }\n",
              "\n",
              "    .colab-df-convert {\n",
              "      background-color: #E8F0FE;\n",
              "      border: none;\n",
              "      border-radius: 50%;\n",
              "      cursor: pointer;\n",
              "      display: none;\n",
              "      fill: #1967D2;\n",
              "      height: 32px;\n",
              "      padding: 0 0 0 0;\n",
              "      width: 32px;\n",
              "    }\n",
              "\n",
              "    .colab-df-convert:hover {\n",
              "      background-color: #E2EBFA;\n",
              "      box-shadow: 0px 1px 2px rgba(60, 64, 67, 0.3), 0px 1px 3px 1px rgba(60, 64, 67, 0.15);\n",
              "      fill: #174EA6;\n",
              "    }\n",
              "\n",
              "    [theme=dark] .colab-df-convert {\n",
              "      background-color: #3B4455;\n",
              "      fill: #D2E3FC;\n",
              "    }\n",
              "\n",
              "    [theme=dark] .colab-df-convert:hover {\n",
              "      background-color: #434B5C;\n",
              "      box-shadow: 0px 1px 3px 1px rgba(0, 0, 0, 0.15);\n",
              "      filter: drop-shadow(0px 1px 2px rgba(0, 0, 0, 0.3));\n",
              "      fill: #FFFFFF;\n",
              "    }\n",
              "  </style>\n",
              "\n",
              "      <script>\n",
              "        const buttonEl =\n",
              "          document.querySelector('#df-c4591a3e-1fb5-4944-84cb-7ad411ad784b button.colab-df-convert');\n",
              "        buttonEl.style.display =\n",
              "          google.colab.kernel.accessAllowed ? 'block' : 'none';\n",
              "\n",
              "        async function convertToInteractive(key) {\n",
              "          const element = document.querySelector('#df-c4591a3e-1fb5-4944-84cb-7ad411ad784b');\n",
              "          const dataTable =\n",
              "            await google.colab.kernel.invokeFunction('convertToInteractive',\n",
              "                                                     [key], {});\n",
              "          if (!dataTable) return;\n",
              "\n",
              "          const docLinkHtml = 'Like what you see? Visit the ' +\n",
              "            '<a target=\"_blank\" href=https://colab.research.google.com/notebooks/data_table.ipynb>data table notebook</a>'\n",
              "            + ' to learn more about interactive tables.';\n",
              "          element.innerHTML = '';\n",
              "          dataTable['output_type'] = 'display_data';\n",
              "          await google.colab.output.renderOutput(dataTable, element);\n",
              "          const docLink = document.createElement('div');\n",
              "          docLink.innerHTML = docLinkHtml;\n",
              "          element.appendChild(docLink);\n",
              "        }\n",
              "      </script>\n",
              "    </div>\n",
              "  </div>\n",
              "  "
            ]
          },
          "metadata": {},
          "execution_count": 4
        }
      ]
    },
    {
      "cell_type": "code",
      "source": [
        "df=data.reset_index()\n",
        "df"
      ],
      "metadata": {
        "colab": {
          "base_uri": "https://localhost:8080/",
          "height": 424
        },
        "id": "Ptie78tLhgx4",
        "outputId": "cf3a1b1e-e143-43ae-fba4-66129419e6e4"
      },
      "execution_count": 5,
      "outputs": [
        {
          "output_type": "execute_result",
          "data": {
            "text/plain": [
              "      index        Date    Open    High     Low    Last   Close  \\\n",
              "0         0  2018-09-28  234.05  235.95  230.20  233.50  233.75   \n",
              "1         1  2018-09-27  234.55  236.80  231.10  233.80  233.25   \n",
              "2         2  2018-09-26  240.00  240.00  232.50  235.00  234.25   \n",
              "3         3  2018-09-25  233.30  236.75  232.00  236.25  236.10   \n",
              "4         4  2018-09-24  233.55  239.20  230.75  234.00  233.30   \n",
              "...     ...         ...     ...     ...     ...     ...     ...   \n",
              "2030   2030  2010-07-27  117.60  119.50  112.00  118.80  118.65   \n",
              "2031   2031  2010-07-26  120.10  121.00  117.10  117.10  117.60   \n",
              "2032   2032  2010-07-23  121.80  121.95  120.25  120.35  120.65   \n",
              "2033   2033  2010-07-22  120.30  122.00  120.25  120.75  120.90   \n",
              "2034   2034  2010-07-21  122.10  123.00  121.05  121.10  121.55   \n",
              "\n",
              "      Total Trade Quantity  Turnover (Lacs)  \n",
              "0                  3069914          7162.35  \n",
              "1                  5082859         11859.95  \n",
              "2                  2240909          5248.60  \n",
              "3                  2349368          5503.90  \n",
              "4                  3423509          7999.55  \n",
              "...                    ...              ...  \n",
              "2030                586100           694.98  \n",
              "2031                658440           780.01  \n",
              "2032                281312           340.31  \n",
              "2033                293312           355.17  \n",
              "2034                658666           803.56  \n",
              "\n",
              "[2035 rows x 9 columns]"
            ],
            "text/html": [
              "\n",
              "  <div id=\"df-e6f015c7-4e95-4d41-8dc5-43d4dfe2135f\">\n",
              "    <div class=\"colab-df-container\">\n",
              "      <div>\n",
              "<style scoped>\n",
              "    .dataframe tbody tr th:only-of-type {\n",
              "        vertical-align: middle;\n",
              "    }\n",
              "\n",
              "    .dataframe tbody tr th {\n",
              "        vertical-align: top;\n",
              "    }\n",
              "\n",
              "    .dataframe thead th {\n",
              "        text-align: right;\n",
              "    }\n",
              "</style>\n",
              "<table border=\"1\" class=\"dataframe\">\n",
              "  <thead>\n",
              "    <tr style=\"text-align: right;\">\n",
              "      <th></th>\n",
              "      <th>index</th>\n",
              "      <th>Date</th>\n",
              "      <th>Open</th>\n",
              "      <th>High</th>\n",
              "      <th>Low</th>\n",
              "      <th>Last</th>\n",
              "      <th>Close</th>\n",
              "      <th>Total Trade Quantity</th>\n",
              "      <th>Turnover (Lacs)</th>\n",
              "    </tr>\n",
              "  </thead>\n",
              "  <tbody>\n",
              "    <tr>\n",
              "      <th>0</th>\n",
              "      <td>0</td>\n",
              "      <td>2018-09-28</td>\n",
              "      <td>234.05</td>\n",
              "      <td>235.95</td>\n",
              "      <td>230.20</td>\n",
              "      <td>233.50</td>\n",
              "      <td>233.75</td>\n",
              "      <td>3069914</td>\n",
              "      <td>7162.35</td>\n",
              "    </tr>\n",
              "    <tr>\n",
              "      <th>1</th>\n",
              "      <td>1</td>\n",
              "      <td>2018-09-27</td>\n",
              "      <td>234.55</td>\n",
              "      <td>236.80</td>\n",
              "      <td>231.10</td>\n",
              "      <td>233.80</td>\n",
              "      <td>233.25</td>\n",
              "      <td>5082859</td>\n",
              "      <td>11859.95</td>\n",
              "    </tr>\n",
              "    <tr>\n",
              "      <th>2</th>\n",
              "      <td>2</td>\n",
              "      <td>2018-09-26</td>\n",
              "      <td>240.00</td>\n",
              "      <td>240.00</td>\n",
              "      <td>232.50</td>\n",
              "      <td>235.00</td>\n",
              "      <td>234.25</td>\n",
              "      <td>2240909</td>\n",
              "      <td>5248.60</td>\n",
              "    </tr>\n",
              "    <tr>\n",
              "      <th>3</th>\n",
              "      <td>3</td>\n",
              "      <td>2018-09-25</td>\n",
              "      <td>233.30</td>\n",
              "      <td>236.75</td>\n",
              "      <td>232.00</td>\n",
              "      <td>236.25</td>\n",
              "      <td>236.10</td>\n",
              "      <td>2349368</td>\n",
              "      <td>5503.90</td>\n",
              "    </tr>\n",
              "    <tr>\n",
              "      <th>4</th>\n",
              "      <td>4</td>\n",
              "      <td>2018-09-24</td>\n",
              "      <td>233.55</td>\n",
              "      <td>239.20</td>\n",
              "      <td>230.75</td>\n",
              "      <td>234.00</td>\n",
              "      <td>233.30</td>\n",
              "      <td>3423509</td>\n",
              "      <td>7999.55</td>\n",
              "    </tr>\n",
              "    <tr>\n",
              "      <th>...</th>\n",
              "      <td>...</td>\n",
              "      <td>...</td>\n",
              "      <td>...</td>\n",
              "      <td>...</td>\n",
              "      <td>...</td>\n",
              "      <td>...</td>\n",
              "      <td>...</td>\n",
              "      <td>...</td>\n",
              "      <td>...</td>\n",
              "    </tr>\n",
              "    <tr>\n",
              "      <th>2030</th>\n",
              "      <td>2030</td>\n",
              "      <td>2010-07-27</td>\n",
              "      <td>117.60</td>\n",
              "      <td>119.50</td>\n",
              "      <td>112.00</td>\n",
              "      <td>118.80</td>\n",
              "      <td>118.65</td>\n",
              "      <td>586100</td>\n",
              "      <td>694.98</td>\n",
              "    </tr>\n",
              "    <tr>\n",
              "      <th>2031</th>\n",
              "      <td>2031</td>\n",
              "      <td>2010-07-26</td>\n",
              "      <td>120.10</td>\n",
              "      <td>121.00</td>\n",
              "      <td>117.10</td>\n",
              "      <td>117.10</td>\n",
              "      <td>117.60</td>\n",
              "      <td>658440</td>\n",
              "      <td>780.01</td>\n",
              "    </tr>\n",
              "    <tr>\n",
              "      <th>2032</th>\n",
              "      <td>2032</td>\n",
              "      <td>2010-07-23</td>\n",
              "      <td>121.80</td>\n",
              "      <td>121.95</td>\n",
              "      <td>120.25</td>\n",
              "      <td>120.35</td>\n",
              "      <td>120.65</td>\n",
              "      <td>281312</td>\n",
              "      <td>340.31</td>\n",
              "    </tr>\n",
              "    <tr>\n",
              "      <th>2033</th>\n",
              "      <td>2033</td>\n",
              "      <td>2010-07-22</td>\n",
              "      <td>120.30</td>\n",
              "      <td>122.00</td>\n",
              "      <td>120.25</td>\n",
              "      <td>120.75</td>\n",
              "      <td>120.90</td>\n",
              "      <td>293312</td>\n",
              "      <td>355.17</td>\n",
              "    </tr>\n",
              "    <tr>\n",
              "      <th>2034</th>\n",
              "      <td>2034</td>\n",
              "      <td>2010-07-21</td>\n",
              "      <td>122.10</td>\n",
              "      <td>123.00</td>\n",
              "      <td>121.05</td>\n",
              "      <td>121.10</td>\n",
              "      <td>121.55</td>\n",
              "      <td>658666</td>\n",
              "      <td>803.56</td>\n",
              "    </tr>\n",
              "  </tbody>\n",
              "</table>\n",
              "<p>2035 rows × 9 columns</p>\n",
              "</div>\n",
              "      <button class=\"colab-df-convert\" onclick=\"convertToInteractive('df-e6f015c7-4e95-4d41-8dc5-43d4dfe2135f')\"\n",
              "              title=\"Convert this dataframe to an interactive table.\"\n",
              "              style=\"display:none;\">\n",
              "        \n",
              "  <svg xmlns=\"http://www.w3.org/2000/svg\" height=\"24px\"viewBox=\"0 0 24 24\"\n",
              "       width=\"24px\">\n",
              "    <path d=\"M0 0h24v24H0V0z\" fill=\"none\"/>\n",
              "    <path d=\"M18.56 5.44l.94 2.06.94-2.06 2.06-.94-2.06-.94-.94-2.06-.94 2.06-2.06.94zm-11 1L8.5 8.5l.94-2.06 2.06-.94-2.06-.94L8.5 2.5l-.94 2.06-2.06.94zm10 10l.94 2.06.94-2.06 2.06-.94-2.06-.94-.94-2.06-.94 2.06-2.06.94z\"/><path d=\"M17.41 7.96l-1.37-1.37c-.4-.4-.92-.59-1.43-.59-.52 0-1.04.2-1.43.59L10.3 9.45l-7.72 7.72c-.78.78-.78 2.05 0 2.83L4 21.41c.39.39.9.59 1.41.59.51 0 1.02-.2 1.41-.59l7.78-7.78 2.81-2.81c.8-.78.8-2.07 0-2.86zM5.41 20L4 18.59l7.72-7.72 1.47 1.35L5.41 20z\"/>\n",
              "  </svg>\n",
              "      </button>\n",
              "      \n",
              "  <style>\n",
              "    .colab-df-container {\n",
              "      display:flex;\n",
              "      flex-wrap:wrap;\n",
              "      gap: 12px;\n",
              "    }\n",
              "\n",
              "    .colab-df-convert {\n",
              "      background-color: #E8F0FE;\n",
              "      border: none;\n",
              "      border-radius: 50%;\n",
              "      cursor: pointer;\n",
              "      display: none;\n",
              "      fill: #1967D2;\n",
              "      height: 32px;\n",
              "      padding: 0 0 0 0;\n",
              "      width: 32px;\n",
              "    }\n",
              "\n",
              "    .colab-df-convert:hover {\n",
              "      background-color: #E2EBFA;\n",
              "      box-shadow: 0px 1px 2px rgba(60, 64, 67, 0.3), 0px 1px 3px 1px rgba(60, 64, 67, 0.15);\n",
              "      fill: #174EA6;\n",
              "    }\n",
              "\n",
              "    [theme=dark] .colab-df-convert {\n",
              "      background-color: #3B4455;\n",
              "      fill: #D2E3FC;\n",
              "    }\n",
              "\n",
              "    [theme=dark] .colab-df-convert:hover {\n",
              "      background-color: #434B5C;\n",
              "      box-shadow: 0px 1px 3px 1px rgba(0, 0, 0, 0.15);\n",
              "      filter: drop-shadow(0px 1px 2px rgba(0, 0, 0, 0.3));\n",
              "      fill: #FFFFFF;\n",
              "    }\n",
              "  </style>\n",
              "\n",
              "      <script>\n",
              "        const buttonEl =\n",
              "          document.querySelector('#df-e6f015c7-4e95-4d41-8dc5-43d4dfe2135f button.colab-df-convert');\n",
              "        buttonEl.style.display =\n",
              "          google.colab.kernel.accessAllowed ? 'block' : 'none';\n",
              "\n",
              "        async function convertToInteractive(key) {\n",
              "          const element = document.querySelector('#df-e6f015c7-4e95-4d41-8dc5-43d4dfe2135f');\n",
              "          const dataTable =\n",
              "            await google.colab.kernel.invokeFunction('convertToInteractive',\n",
              "                                                     [key], {});\n",
              "          if (!dataTable) return;\n",
              "\n",
              "          const docLinkHtml = 'Like what you see? Visit the ' +\n",
              "            '<a target=\"_blank\" href=https://colab.research.google.com/notebooks/data_table.ipynb>data table notebook</a>'\n",
              "            + ' to learn more about interactive tables.';\n",
              "          element.innerHTML = '';\n",
              "          dataTable['output_type'] = 'display_data';\n",
              "          await google.colab.output.renderOutput(dataTable, element);\n",
              "          const docLink = document.createElement('div');\n",
              "          docLink.innerHTML = docLinkHtml;\n",
              "          element.appendChild(docLink);\n",
              "        }\n",
              "      </script>\n",
              "    </div>\n",
              "  </div>\n",
              "  "
            ]
          },
          "metadata": {},
          "execution_count": 5
        }
      ]
    },
    {
      "cell_type": "code",
      "source": [
        "d_close = df['Close']\n",
        "plt.plot(d_close)"
      ],
      "metadata": {
        "colab": {
          "base_uri": "https://localhost:8080/",
          "height": 282
        },
        "id": "kKjt0WTwhj-g",
        "outputId": "3385c0af-97b5-425d-ae7a-ad81e98d7bc8"
      },
      "execution_count": 6,
      "outputs": [
        {
          "output_type": "execute_result",
          "data": {
            "text/plain": [
              "[<matplotlib.lines.Line2D at 0x7f658d28c8b0>]"
            ]
          },
          "metadata": {},
          "execution_count": 6
        },
        {
          "output_type": "display_data",
          "data": {
            "text/plain": [
              "<Figure size 432x288 with 1 Axes>"
            ],
            "image/png": "[encoded data removed]"
          },
          "metadata": {
            "needs_background": "light"
          }
        }
      ]
    },
    {
      "cell_type": "code",
      "source": [
        "from sklearn.preprocessing import MinMaxScaler\n",
        "scaler=MinMaxScaler(feature_range=(0,1))\n",
        "d_close=scaler.fit_transform(np.array(d_close).reshape(-1,1))\n",
        "d_close"
      ],
      "metadata": {
        "colab": {
          "base_uri": "https://localhost:8080/"
        },
        "id": "G8bh1Rj7hoUg",
        "outputId": "838068a7-1e88-4712-cbd9-d00240dd183c"
      },
      "execution_count": 8,
      "outputs": [
        {
          "output_type": "execute_result",
          "data": {
            "text/plain": [
              "array([[0.62418301],\n",
              "       [0.62214052],\n",
              "       [0.62622549],\n",
              "       ...,\n",
              "       [0.1621732 ],\n",
              "       [0.16319444],\n",
              "       [0.16584967]])"
            ]
          },
          "metadata": {},
          "execution_count": 8
        }
      ]
    },
    {
      "cell_type": "code",
      "source": [
        "training_size=int(len(d_close)*0.72)\n",
        "test_size=len(d_close)-training_size\n",
        "train_data=d_close[0:training_size,:]\n",
        "test_data=d_close[training_size:len(d_close),:1]"
      ],
      "metadata": {
        "id": "E-pGWxKIhvgg"
      },
      "execution_count": 10,
      "outputs": []
    },
    {
      "cell_type": "code",
      "source": [
        "def create_dataset(dataset, time_step=1):\n",
        "    x_data= []\n",
        "    y_data= []\n",
        "    for i in range(len(dataset)-time_step-1):\n",
        "      x_data.append(dataset[i:(i+time_step), 0])\n",
        "      y_data.append(dataset[i + time_step, 0])\n",
        "      return np.array(x_data), np.array(y_data)"
      ],
      "metadata": {
        "id": "-p1TFqJth0GP"
      },
      "execution_count": 12,
      "outputs": []
    },
    {
      "cell_type": "code",
      "source": [
        "time_step = 100\n",
        "x_train,y_train = create_dataset(train_data, time_step)\n",
        "x_test, y_test= create_dataset(test_data, time_step)"
      ],
      "metadata": {
        "id": "oIPFVLZah4F7"
      },
      "execution_count": 14,
      "outputs": []
    },
    {
      "cell_type": "code",
      "source": [
        "x_train =x_train.reshape(x_train.shape[0],x_train.shape[1],1)\n",
        "x_test = x_test.reshape(x_test.shape[0],x_test.shape[1],1)"
      ],
      "metadata": {
        "id": "kC6b95_4h7tl"
      },
      "execution_count": 16,
      "outputs": []
    },
    {
      "cell_type": "code",
      "source": [
        "x_train.shape"
      ],
      "metadata": {
        "colab": {
          "base_uri": "https://localhost:8080/"
        },
        "id": "gQd9t8-wh_N0",
        "outputId": "f6b71def-770d-4cd0-eadb-9946368ab930"
      },
      "execution_count": 18,
      "outputs": [
        {
          "output_type": "execute_result",
          "data": {
            "text/plain": [
              "(1, 100, 1)"
            ]
          },
          "metadata": {},
          "execution_count": 18
        }
      ]
    },
    {
      "cell_type": "code",
      "source": [
        "y_train.shape"
      ],
      "metadata": {
        "colab": {
          "base_uri": "https://localhost:8080/"
        },
        "id": "ujAAVUReiDK2",
        "outputId": "6a0da344-8d20-4b88-efd5-e89e87176ea9"
      },
      "execution_count": 20,
      "outputs": [
        {
          "output_type": "execute_result",
          "data": {
            "text/plain": [
              "(1,)"
            ]
          },
          "metadata": {},
          "execution_count": 20
        }
      ]
    },
    {
      "cell_type": "code",
      "source": [
        "from tensorflow.keras.models import Sequential\n",
        "from tensorflow.keras.layers import Dense\n",
        "from tensorflow.keras.layers import LSTM"
      ],
      "metadata": {
        "id": "2HytCSuoiJjv"
      },
      "execution_count": 21,
      "outputs": []
    },
    {
      "cell_type": "code",
      "source": [
        "regressor=Sequential()\n",
        "\n",
        "regressor.add(LSTM(units=50,return_sequences=True,input_shape=(100,1)))\n",
        "\n",
        "regressor.add(LSTM(units=50,return_sequences=True))\n",
        "\n",
        "regressor.add(LSTM(units=50))\n",
        "\n",
        "regressor.add(Dense(1))\n",
        "     "
      ],
      "metadata": {
        "id": "WTYzUP12iKil"
      },
      "execution_count": 23,
      "outputs": []
    },
    {
      "cell_type": "code",
      "source": [
        "regressor.compile(loss='mean_squared_error',optimizer='adam')\n",
        "regressor.fit(x_train,y_train,validation_data=(x_test,y_test),epochs=100,batch_size=64,verbose=1)"
      ],
      "metadata": {
        "colab": {
          "base_uri": "https://localhost:8080/"
        },
        "id": "0kP7F8_eiQFR",
        "outputId": "15f87697-23c9-4ac0-9a41-ae1dcae3a6e9"
      },
      "execution_count": 24,
      "outputs": [
        {
          "output_type": "stream",
          "name": "stdout",
          "text": [
            "Epoch 1/100\n",
            "1/1 [==============================] - 8s 8s/step - loss: 0.8302 - val_loss: 0.0053\n",
            "Epoch 2/100\n",
            "1/1 [==============================] - 0s 172ms/step - loss: 0.6771 - val_loss: 0.0017\n",
            "Epoch 3/100\n",
            "1/1 [==============================] - 0s 124ms/step - loss: 0.5336 - val_loss: 1.3986e-05\n",
            "Epoch 4/100\n",
            "1/1 [==============================] - 0s 125ms/step - loss: 0.3890 - val_loss: 0.0017\n",
            "Epoch 5/100\n",
            "1/1 [==============================] - 0s 141ms/step - loss: 0.2436 - val_loss: 0.0097\n",
            "Epoch 6/100\n",
            "1/1 [==============================] - 0s 131ms/step - loss: 0.1086 - val_loss: 0.0298\n",
            "Epoch 7/100\n",
            "1/1 [==============================] - 0s 125ms/step - loss: 0.0148 - val_loss: 0.0707\n",
            "Epoch 8/100\n",
            "1/1 [==============================] - 0s 147ms/step - loss: 0.0158 - val_loss: 0.1206\n",
            "Epoch 9/100\n",
            "1/1 [==============================] - 0s 124ms/step - loss: 0.0959 - val_loss: 0.1394\n",
            "Epoch 10/100\n",
            "1/1 [==============================] - 0s 131ms/step - loss: 0.1161 - val_loss: 0.1289\n",
            "Epoch 11/100\n",
            "1/1 [==============================] - 0s 123ms/step - loss: 0.0805 - val_loss: 0.1059\n",
            "Epoch 12/100\n",
            "1/1 [==============================] - 0s 123ms/step - loss: 0.0356 - val_loss: 0.0825\n",
            "Epoch 13/100\n",
            "1/1 [==============================] - 0s 126ms/step - loss: 0.0075 - val_loss: 0.0639\n",
            "Epoch 14/100\n",
            "1/1 [==============================] - 0s 123ms/step - loss: 3.3232e-05 - val_loss: 0.0508\n",
            "Epoch 15/100\n",
            "1/1 [==============================] - 0s 123ms/step - loss: 0.0063 - val_loss: 0.0425\n",
            "Epoch 16/100\n",
            "1/1 [==============================] - 0s 135ms/step - loss: 0.0177 - val_loss: 0.0379\n",
            "Epoch 17/100\n",
            "1/1 [==============================] - 0s 127ms/step - loss: 0.0277 - val_loss: 0.0363\n",
            "Epoch 18/100\n",
            "1/1 [==============================] - 0s 141ms/step - loss: 0.0334 - val_loss: 0.0371\n",
            "Epoch 19/100\n",
            "1/1 [==============================] - 0s 139ms/step - loss: 0.0338 - val_loss: 0.0400\n",
            "Epoch 20/100\n",
            "1/1 [==============================] - 0s 127ms/step - loss: 0.0299 - val_loss: 0.0449\n",
            "Epoch 21/100\n",
            "1/1 [==============================] - 0s 141ms/step - loss: 0.0230 - val_loss: 0.0517\n",
            "Epoch 22/100\n",
            "1/1 [==============================] - 0s 124ms/step - loss: 0.0150 - val_loss: 0.0605\n",
            "Epoch 23/100\n",
            "1/1 [==============================] - 0s 143ms/step - loss: 0.0077 - val_loss: 0.0711\n",
            "Epoch 24/100\n",
            "1/1 [==============================] - 0s 125ms/step - loss: 0.0025 - val_loss: 0.0829\n",
            "Epoch 25/100\n",
            "1/1 [==============================] - 0s 132ms/step - loss: 1.2113e-04 - val_loss: 0.0951\n",
            "Epoch 26/100\n",
            "1/1 [==============================] - 0s 126ms/step - loss: 6.4889e-04 - val_loss: 0.1066\n",
            "Epoch 27/100\n",
            "1/1 [==============================] - 0s 127ms/step - loss: 0.0032 - val_loss: 0.1162\n",
            "Epoch 28/100\n",
            "1/1 [==============================] - 0s 122ms/step - loss: 0.0064 - val_loss: 0.1227\n",
            "Epoch 29/100\n",
            "1/1 [==============================] - 0s 126ms/step - loss: 0.0089 - val_loss: 0.1256\n",
            "Epoch 30/100\n",
            "1/1 [==============================] - 0s 140ms/step - loss: 0.0096 - val_loss: 0.1247\n",
            "Epoch 31/100\n",
            "1/1 [==============================] - 0s 131ms/step - loss: 0.0086 - val_loss: 0.1209\n",
            "Epoch 32/100\n",
            "1/1 [==============================] - 0s 123ms/step - loss: 0.0063 - val_loss: 0.1151\n",
            "Epoch 33/100\n",
            "1/1 [==============================] - 0s 133ms/step - loss: 0.0036 - val_loss: 0.1083\n",
            "Epoch 34/100\n",
            "1/1 [==============================] - 0s 129ms/step - loss: 0.0015 - val_loss: 0.1014\n",
            "Epoch 35/100\n",
            "1/1 [==============================] - 0s 127ms/step - loss: 2.5868e-04 - val_loss: 0.0950\n",
            "Epoch 36/100\n",
            "1/1 [==============================] - 0s 130ms/step - loss: 2.6355e-05 - val_loss: 0.0898\n",
            "Epoch 37/100\n",
            "1/1 [==============================] - 0s 130ms/step - loss: 5.5655e-04 - val_loss: 0.0857\n",
            "Epoch 38/100\n",
            "1/1 [==============================] - 0s 136ms/step - loss: 0.0015 - val_loss: 0.0831\n",
            "Epoch 39/100\n",
            "1/1 [==============================] - 0s 124ms/step - loss: 0.0024 - val_loss: 0.0818\n",
            "Epoch 40/100\n",
            "1/1 [==============================] - 0s 136ms/step - loss: 0.0030 - val_loss: 0.0818\n",
            "Epoch 41/100\n",
            "1/1 [==============================] - 0s 122ms/step - loss: 0.0031 - val_loss: 0.0830\n",
            "Epoch 42/100\n",
            "1/1 [==============================] - 0s 121ms/step - loss: 0.0028 - val_loss: 0.0853\n",
            "Epoch 43/100\n",
            "1/1 [==============================] - 0s 122ms/step - loss: 0.0022 - val_loss: 0.0886\n",
            "Epoch 44/100\n",
            "1/1 [==============================] - 0s 125ms/step - loss: 0.0014 - val_loss: 0.0926\n",
            "Epoch 45/100\n",
            "1/1 [==============================] - 0s 124ms/step - loss: 6.5986e-04 - val_loss: 0.0970\n",
            "Epoch 46/100\n",
            "1/1 [==============================] - 0s 151ms/step - loss: 1.7624e-04 - val_loss: 0.1015\n",
            "Epoch 47/100\n",
            "1/1 [==============================] - 0s 125ms/step - loss: 6.9554e-07 - val_loss: 0.1058\n",
            "Epoch 48/100\n",
            "1/1 [==============================] - 0s 138ms/step - loss: 1.1294e-04 - val_loss: 0.1095\n",
            "Epoch 49/100\n",
            "1/1 [==============================] - 0s 128ms/step - loss: 4.0809e-04 - val_loss: 0.1123\n",
            "Epoch 50/100\n",
            "1/1 [==============================] - 0s 120ms/step - loss: 7.3856e-04 - val_loss: 0.1141\n",
            "Epoch 51/100\n",
            "1/1 [==============================] - 0s 126ms/step - loss: 9.6803e-04 - val_loss: 0.1146\n",
            "Epoch 52/100\n",
            "1/1 [==============================] - 0s 128ms/step - loss: 0.0010 - val_loss: 0.1140\n",
            "Epoch 53/100\n",
            "1/1 [==============================] - 0s 128ms/step - loss: 8.8274e-04 - val_loss: 0.1125\n",
            "Epoch 54/100\n",
            "1/1 [==============================] - 0s 133ms/step - loss: 6.2732e-04 - val_loss: 0.1103\n",
            "Epoch 55/100\n",
            "1/1 [==============================] - 0s 129ms/step - loss: 3.4489e-04 - val_loss: 0.1078\n",
            "Epoch 56/100\n",
            "1/1 [==============================] - 0s 152ms/step - loss: 1.2242e-04 - val_loss: 0.1052\n",
            "Epoch 57/100\n",
            "1/1 [==============================] - 0s 123ms/step - loss: 1.0973e-05 - val_loss: 0.1027\n",
            "Epoch 58/100\n",
            "1/1 [==============================] - 0s 126ms/step - loss: 1.5711e-05 - val_loss: 0.1007\n",
            "Epoch 59/100\n",
            "1/1 [==============================] - 0s 132ms/step - loss: 1.0343e-04 - val_loss: 0.0992\n",
            "Epoch 60/100\n",
            "1/1 [==============================] - 0s 123ms/step - loss: 2.2116e-04 - val_loss: 0.0983\n",
            "Epoch 61/100\n",
            "1/1 [==============================] - 0s 127ms/step - loss: 3.1708e-04 - val_loss: 0.0980\n",
            "Epoch 62/100\n",
            "1/1 [==============================] - 0s 129ms/step - loss: 3.5675e-04 - val_loss: 0.0983\n",
            "Epoch 63/100\n",
            "1/1 [==============================] - 0s 127ms/step - loss: 3.3074e-04 - val_loss: 0.0992\n",
            "Epoch 64/100\n",
            "1/1 [==============================] - 0s 126ms/step - loss: 2.5334e-04 - val_loss: 0.1005\n",
            "Epoch 65/100\n",
            "1/1 [==============================] - 0s 128ms/step - loss: 1.5396e-04 - val_loss: 0.1021\n",
            "Epoch 66/100\n",
            "1/1 [==============================] - 0s 120ms/step - loss: 6.5202e-05 - val_loss: 0.1038\n",
            "Epoch 67/100\n",
            "1/1 [==============================] - 0s 126ms/step - loss: 1.1399e-05 - val_loss: 0.1055\n",
            "Epoch 68/100\n",
            "1/1 [==============================] - 0s 126ms/step - loss: 1.4887e-06 - val_loss: 0.1070\n",
            "Epoch 69/100\n",
            "1/1 [==============================] - 0s 132ms/step - loss: 2.7914e-05 - val_loss: 0.1082\n",
            "Epoch 70/100\n",
            "1/1 [==============================] - 0s 123ms/step - loss: 7.1599e-05 - val_loss: 0.1090\n",
            "Epoch 71/100\n",
            "1/1 [==============================] - 0s 136ms/step - loss: 1.1050e-04 - val_loss: 0.1093\n",
            "Epoch 72/100\n",
            "1/1 [==============================] - 0s 121ms/step - loss: 1.2821e-04 - val_loss: 0.1092\n",
            "Epoch 73/100\n",
            "1/1 [==============================] - 0s 120ms/step - loss: 1.1923e-04 - val_loss: 0.1087\n",
            "Epoch 74/100\n",
            "1/1 [==============================] - 0s 125ms/step - loss: 8.9296e-05 - val_loss: 0.1079\n",
            "Epoch 75/100\n",
            "1/1 [==============================] - 0s 128ms/step - loss: 5.1289e-05 - val_loss: 0.1069\n",
            "Epoch 76/100\n",
            "1/1 [==============================] - 0s 121ms/step - loss: 1.9054e-05 - val_loss: 0.1059\n",
            "Epoch 77/100\n",
            "1/1 [==============================] - 0s 132ms/step - loss: 1.9417e-06 - val_loss: 0.1049\n",
            "Epoch 78/100\n",
            "1/1 [==============================] - 0s 127ms/step - loss: 2.0556e-06 - val_loss: 0.1041\n",
            "Epoch 79/100\n",
            "1/1 [==============================] - 0s 134ms/step - loss: 1.4759e-05 - val_loss: 0.1035\n",
            "Epoch 80/100\n",
            "1/1 [==============================] - 0s 129ms/step - loss: 3.1647e-05 - val_loss: 0.1031\n",
            "Epoch 81/100\n",
            "1/1 [==============================] - 0s 120ms/step - loss: 4.4369e-05 - val_loss: 0.1031\n",
            "Epoch 82/100\n",
            "1/1 [==============================] - 0s 126ms/step - loss: 4.7757e-05 - val_loss: 0.1033\n",
            "Epoch 83/100\n",
            "1/1 [==============================] - 0s 129ms/step - loss: 4.1202e-05 - val_loss: 0.1037\n",
            "Epoch 84/100\n",
            "1/1 [==============================] - 0s 135ms/step - loss: 2.8108e-05 - val_loss: 0.1042\n",
            "Epoch 85/100\n",
            "1/1 [==============================] - 0s 124ms/step - loss: 1.3910e-05 - val_loss: 0.1049\n",
            "Epoch 86/100\n",
            "1/1 [==============================] - 0s 125ms/step - loss: 3.6378e-06 - val_loss: 0.1056\n",
            "Epoch 87/100\n",
            "1/1 [==============================] - 0s 137ms/step - loss: 2.4711e-09 - val_loss: 0.1062\n",
            "Epoch 88/100\n",
            "1/1 [==============================] - 0s 121ms/step - loss: 2.6889e-06 - val_loss: 0.1067\n",
            "Epoch 89/100\n",
            "1/1 [==============================] - 0s 134ms/step - loss: 8.9530e-06 - val_loss: 0.1070\n",
            "Epoch 90/100\n",
            "1/1 [==============================] - 0s 124ms/step - loss: 1.5115e-05 - val_loss: 0.1072\n",
            "Epoch 91/100\n",
            "1/1 [==============================] - 0s 128ms/step - loss: 1.8211e-05 - val_loss: 0.1071\n",
            "Epoch 92/100\n",
            "1/1 [==============================] - 0s 131ms/step - loss: 1.7094e-05 - val_loss: 0.1069\n",
            "Epoch 93/100\n",
            "1/1 [==============================] - 0s 133ms/step - loss: 1.2602e-05 - val_loss: 0.1066\n",
            "Epoch 94/100\n",
            "1/1 [==============================] - 0s 127ms/step - loss: 6.8712e-06 - val_loss: 0.1062\n",
            "Epoch 95/100\n",
            "1/1 [==============================] - 0s 134ms/step - loss: 2.2045e-06 - val_loss: 0.1058\n",
            "Epoch 96/100\n",
            "1/1 [==============================] - 0s 129ms/step - loss: 8.3396e-08 - val_loss: 0.1054\n",
            "Epoch 97/100\n",
            "1/1 [==============================] - 0s 127ms/step - loss: 6.8070e-07 - val_loss: 0.1051\n",
            "Epoch 98/100\n",
            "1/1 [==============================] - 0s 134ms/step - loss: 3.0211e-06 - val_loss: 0.1048\n",
            "Epoch 99/100\n",
            "1/1 [==============================] - 0s 140ms/step - loss: 5.5878e-06 - val_loss: 0.1047\n",
            "Epoch 100/100\n",
            "1/1 [==============================] - 0s 123ms/step - loss: 7.0622e-06 - val_loss: 0.1048\n"
          ]
        },
        {
          "output_type": "execute_result",
          "data": {
            "text/plain": [
              "<keras.callbacks.History at 0x7f652a268160>"
            ]
          },
          "metadata": {},
          "execution_count": 24
        }
      ]
    },
    {
      "cell_type": "code",
      "source": [
        "train_predict=regressor.predict(x_train)\n",
        "test_predict=regressor.predict(x_test)\n",
        "train_predict=scaler.inverse_transform(train_predict)\n",
        "test_predict=scaler.inverse_transform(test_predict)\n",
        "     "
      ],
      "metadata": {
        "colab": {
          "base_uri": "https://localhost:8080/"
        },
        "id": "8D4mL5lPiTtk",
        "outputId": "844780fa-1b7f-465d-a9f6-70254bab1fe5"
      },
      "execution_count": 25,
      "outputs": [
        {
          "output_type": "stream",
          "name": "stdout",
          "text": [
            "1/1 [==============================] - 1s 1s/step\n",
            "1/1 [==============================] - 0s 28ms/step\n"
          ]
        }
      ]
    },
    {
      "cell_type": "code",
      "source": [
        "import math\n",
        "from sklearn.metrics import mean_squared_error\n",
        "math.sqrt(mean_squared_error(y_train ,train_predict))"
      ],
      "metadata": {
        "colab": {
          "base_uri": "https://localhost:8080/"
        },
        "id": "c5wjlQvCiasG",
        "outputId": "a3bc20e4-556a-47c6-cce4-f1a2f2649d26"
      },
      "execution_count": 27,
      "outputs": [
        {
          "output_type": "execute_result",
          "data": {
            "text/plain": [
              "0.0026150548380183825"
            ]
          },
          "metadata": {},
          "execution_count": 27
        }
      ]
    },
    {
      "cell_type": "code",
      "source": [
        "math.sqrt(mean_squared_error(y_test,test_predict))"
      ],
      "metadata": {
        "colab": {
          "base_uri": "https://localhost:8080/"
        },
        "id": "K9twndEOif4X",
        "outputId": "8c5ea72b-8f24-45b6-ad34-86485208edac"
      },
      "execution_count": 29,
      "outputs": [
        {
          "output_type": "execute_result",
          "data": {
            "text/plain": [
              "0.3236519785877926"
            ]
          },
          "metadata": {},
          "execution_count": 29
        }
      ]
    },
    {
      "cell_type": "code",
      "source": [
        "look_back = 100\n",
        "train_predict_plot = np.empty_like(d_close)\n",
        "train_predict_plot[:, :] = np.nan\n",
        "train_predict_plot[look_back:len(train_predict)+look_back, :] = train_predict"
      ],
      "metadata": {
        "id": "5hrSycW3ijaa"
      },
      "execution_count": 31,
      "outputs": []
    },
    {
      "cell_type": "code",
      "source": [
        "test_predict_plot = np.empty_like(d_close)\n",
        "test_predict_plot[:, :] = np.nan\n",
        "test_predict_plot[len(train_predict)+(look_back*2)+1:len(d_close)-1, :] = test_predict"
      ],
      "metadata": {
        "id": "eeWK3dKOiogz"
      },
      "execution_count": 32,
      "outputs": []
    },
    {
      "cell_type": "code",
      "source": [
        "plt.plot(scaler.inverse_transform(d_close))\n",
        "plt.plot(train_predict_plot)\n",
        "plt.plot(test_predict_plot)\n",
        "plt.show()"
      ],
      "metadata": {
        "colab": {
          "base_uri": "https://localhost:8080/",
          "height": 265
        },
        "id": "PBVX9JiCisg0",
        "outputId": "9dd3d8b1-e393-48b3-fba1-c7b30da3fb3d"
      },
      "execution_count": 34,
      "outputs": [
        {
          "output_type": "display_data",
          "data": {
            "text/plain": [
              "<Figure size 432x288 with 1 Axes>"
            ],
            "image/png": "[encoded data removed]"
          },
          "metadata": {
            "needs_background": "light"
          }
        }
      ]
    },
    {
      "cell_type": "code",
      "source": [
        "len(test_data), x_test.shape"
      ],
      "metadata": {
        "colab": {
          "base_uri": "https://localhost:8080/"
        },
        "id": "yIxwWxLCiyfj",
        "outputId": "6e347fc9-e559-4945-a18a-fff7a9c867ae"
      },
      "execution_count": 36,
      "outputs": [
        {
          "output_type": "execute_result",
          "data": {
            "text/plain": [
              "(570, (1, 100, 1))"
            ]
          },
          "metadata": {},
          "execution_count": 36
        }
      ]
    },
    {
      "cell_type": "code",
      "source": [
        "x_input = test_data[470:].reshape(1,-1)\n",
        "x_input.shape\n",
        "     "
      ],
      "metadata": {
        "colab": {
          "base_uri": "https://localhost:8080/"
        },
        "id": "QhlgKgUhi0Uv",
        "outputId": "4d41259d-8389-40c7-a142-761f62813a0c"
      },
      "execution_count": 37,
      "outputs": [
        {
          "output_type": "execute_result",
          "data": {
            "text/plain": [
              "(1, 100)"
            ]
          },
          "metadata": {},
          "execution_count": 37
        }
      ]
    },
    {
      "cell_type": "code",
      "source": [
        "tem_input = list(x_input)\n",
        "tem_input = tem_input[0].tolist()"
      ],
      "metadata": {
        "id": "CY5wOKImi2-E"
      },
      "execution_count": 39,
      "outputs": []
    },
    {
      "cell_type": "code",
      "source": [
        "lt_output=[]\n",
        "n_steps=100\n",
        "next_No_Of_Days = 50\n",
        "i=0\n",
        "\n",
        "while(i100):\n",
        "           x_input=np.array(tem_input[1:])\n",
        "           print(\"{} day input {}\".format(i,x_input))\n",
        "           x_input=x_input.reshape(1,-1)\n",
        "           x_input = x_input.reshape((1, n_steps, 1))\n",
        "           yt = regressor.predict(x_input, verbose=0)\n",
        "           print(\"{} day output {}\".format(i,yt))\n",
        "           tem_input.extend(yt[0].tolist())\n",
        "           tem_input=tem_input[1:]\n",
        "           lt_output.extend(yt.tolist())\n",
        "           i=i+1\n",
        "        else:\n",
        "           x_input = x_input.reshape((1, n_steps,1))\n",
        "           yt = regressor.predict(x_input, verbose=0)\n",
        "           print(yt[0])\n",
        "           tem_input.extend(yt[0].tolist())\n",
        "           print(len(tem_input))\n",
        "           lt_output.extend(yt.tolist())\n",
        "           i=i+1\n",
        "    \n",
        "print(lt_output)"
      ],
      "metadata": {
        "id": "rcmPYmTWjeUG"
      },
      "execution_count": null,
      "outputs": []
    },
    {
      "cell_type": "code",
      "source": [
        "df = d_close.tolist()\n",
        "df.extend(lt_output)\n",
        "df=scaler.inverse_transform(df).tolist()\n",
        "plt.plot(df)"
      ],
      "metadata": {
        "id": "zPm0lnIHjfou"
      },
      "execution_count": null,
      "outputs": []
    }
  ]
}